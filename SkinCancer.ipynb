{
  "nbformat": 4,
  "nbformat_minor": 0,
  "metadata": {
    "colab": {
      "provenance": [],
      "gpuType": "T4"
    },
    "kernelspec": {
      "name": "python3",
      "display_name": "Python 3"
    },
    "language_info": {
      "name": "python"
    },
    "accelerator": "GPU"
  },
  "cells": [
    {
      "cell_type": "code",
      "source": [
        "from google.colab import drive\n",
        "drive.mount('/content/drive')"
      ],
      "metadata": {
        "colab": {
          "base_uri": "https://localhost:8080/"
        },
        "id": "EUIkOXt2T8k8",
        "outputId": "df96798d-54e1-4a03-f4df-4be25f936156"
      },
      "execution_count": 1,
      "outputs": [
        {
          "output_type": "stream",
          "name": "stdout",
          "text": [
            "Mounted at /content/drive\n"
          ]
        }
      ]
    },
    {
      "cell_type": "code",
      "execution_count": 2,
      "metadata": {
        "id": "RzvVY2sXTtWh"
      },
      "outputs": [],
      "source": [
        "\n",
        "import os\n",
        "import shutil\n",
        "\n",
        "#Create Kaggle config directory\n",
        "os.makedirs(\"/root/.kaggle\", exist_ok=True)\n",
        "\n",
        "# Copy the kaggle.json file\n",
        "shutil.copy(\"/content/drive/MyDrive/SkinCancerEnvironment/.kaggle/kaggle.json\", \"/root/.kaggle/\")\n",
        "\n",
        "# Set permissions\n",
        "os.chmod(\"/root/.kaggle/kaggle.json\", 600)\n"
      ]
    },
    {
      "cell_type": "code",
      "source": [
        "!pip install -q kaggle\n",
        "\n",
        "# Download the dataset\n",
        "!kaggle datasets download -d kmader/skin-cancer-mnist-ham10000\n"
      ],
      "metadata": {
        "colab": {
          "base_uri": "https://localhost:8080/"
        },
        "id": "YCzrXpmATx3H",
        "outputId": "4f1b6e5e-94b4-4006-d97d-e20920168540"
      },
      "execution_count": 5,
      "outputs": [
        {
          "output_type": "stream",
          "name": "stdout",
          "text": [
            "Dataset URL: https://www.kaggle.com/datasets/kmader/skin-cancer-mnist-ham10000\n",
            "License(s): CC-BY-NC-SA-4.0\n",
            "Downloading skin-cancer-mnist-ham10000.zip to /content\n",
            "100% 5.19G/5.20G [00:54<00:00, 254MB/s]\n",
            "100% 5.20G/5.20G [00:55<00:00, 101MB/s]\n"
          ]
        }
      ]
    },
    {
      "cell_type": "code",
      "source": [
        "import zipfile\n",
        "\n",
        "with zipfile.ZipFile(\"skin-cancer-mnist-ham10000.zip\", \"r\") as zip_ref:\n",
        "    zip_ref.extractall(\"HAM10000\")\n"
      ],
      "metadata": {
        "id": "DCE5YN8RUpLU"
      },
      "execution_count": 6,
      "outputs": []
    },
    {
      "cell_type": "code",
      "source": [
        "import pandas as pd\n",
        "import numpy as np\n",
        "import os\n",
        "import cv2\n",
        "from tqdm import tqdm\n",
        "import matplotlib.pyplot as plt\n",
        "from sklearn.preprocessing import LabelEncoder\n",
        "from sklearn.model_selection import train_test_split"
      ],
      "metadata": {
        "id": "iCp3qG1SVKAb"
      },
      "execution_count": 7,
      "outputs": []
    },
    {
      "cell_type": "code",
      "source": [
        "import pandas as pd\n",
        "import os\n",
        "from PIL import Image\n",
        "from sklearn.model_selection import train_test_split\n",
        "from sklearn.utils.class_weight import compute_class_weight\n",
        "import numpy as np\n",
        "\n",
        "# Load metadata\n",
        "metadata_path = \"HAM10000/HAM10000_metadata.csv\"\n",
        "df = pd.read_csv(metadata_path)\n",
        "\n",
        "# Attach correct image paths\n",
        "def get_image_path(image_id):\n",
        "    path1 = f\"HAM10000/HAM10000_images_part_1/{image_id}.jpg\"\n",
        "    path2 = f\"HAM10000/HAM10000_images_part_2/{image_id}.jpg\"\n",
        "    return path1 if os.path.exists(path1) else path2\n",
        "\n",
        "df['path'] = df['image_id'].map(get_image_path)\n",
        "\n",
        "# Remove any invalid images\n",
        "def is_valid_image(path):\n",
        "    try:\n",
        "        img = Image.open(path)\n",
        "        img.verify()\n",
        "        return True\n",
        "    except:\n",
        "        return False\n",
        "\n",
        "df = df[df['path'].apply(is_valid_image)].reset_index(drop=True)\n",
        "\n",
        "# Split the data\n",
        "train_df, val_df = train_test_split(df, test_size=0.2, stratify=df['dx'], random_state=42)\n"
      ],
      "metadata": {
        "id": "uAQuoLd8KO8m"
      },
      "execution_count": 8,
      "outputs": []
    },
    {
      "cell_type": "code",
      "source": [
        "from tensorflow.keras.preprocessing.image import ImageDataGenerator\n",
        "\n",
        "IMG_SIZE = (224, 224)\n",
        "batch_size = 32\n",
        "\n",
        "datagen = ImageDataGenerator(rescale=1./255)\n",
        "\n",
        "train_generator = datagen.flow_from_dataframe(\n",
        "    dataframe=train_df,\n",
        "    x_col='path',\n",
        "    y_col='dx',\n",
        "    target_size=IMG_SIZE,\n",
        "    batch_size=batch_size,\n",
        "    class_mode='categorical',\n",
        "    shuffle=True\n",
        ")\n",
        "\n",
        "val_generator = datagen.flow_from_dataframe(\n",
        "    dataframe=val_df,\n",
        "    x_col='path',\n",
        "    y_col='dx',\n",
        "    target_size=IMG_SIZE,\n",
        "    batch_size=batch_size,\n",
        "    class_mode='categorical',\n",
        "    shuffle=False\n",
        ")\n"
      ],
      "metadata": {
        "colab": {
          "base_uri": "https://localhost:8080/"
        },
        "id": "RbgDO2vFKpw-",
        "outputId": "8f2c230e-f788-43bc-fb1d-4d457761a7ce"
      },
      "execution_count": 9,
      "outputs": [
        {
          "output_type": "stream",
          "name": "stdout",
          "text": [
            "Found 8012 validated image filenames belonging to 7 classes.\n",
            "Found 2003 validated image filenames belonging to 7 classes.\n"
          ]
        }
      ]
    },
    {
      "cell_type": "code",
      "source": [
        "from tensorflow.keras.applications import EfficientNetB0\n",
        "from tensorflow.keras.layers import GlobalAveragePooling2D, Dense, Dropout\n",
        "from tensorflow.keras.models import Model\n",
        "from tensorflow.keras.optimizers import Adam\n",
        "from tensorflow.keras.callbacks import EarlyStopping\n",
        "\n",
        "base_model = EfficientNetB0(weights='imagenet', include_top=False, input_shape=(224, 224, 3))\n",
        "base_model.trainable = False  # freeze pretrained layers\n",
        "\n",
        "x = base_model.output\n",
        "x = GlobalAveragePooling2D()(x)\n",
        "x = Dense(256, activation='relu')(x)\n",
        "x = Dropout(0.5)(x)\n",
        "output = Dense(7, activation='softmax')(x)\n",
        "\n",
        "model = Model(inputs=base_model.input, outputs=output)\n"
      ],
      "metadata": {
        "colab": {
          "base_uri": "https://localhost:8080/"
        },
        "id": "Gnyq39dlKu8I",
        "outputId": "f32c388e-3bd5-442a-db3c-e4db8428ad58"
      },
      "execution_count": 10,
      "outputs": [
        {
          "output_type": "stream",
          "name": "stdout",
          "text": [
            "Downloading data from https://storage.googleapis.com/keras-applications/efficientnetb0_notop.h5\n",
            "\u001b[1m16705208/16705208\u001b[0m \u001b[32m━━━━━━━━━━━━━━━━━━━━\u001b[0m\u001b[37m\u001b[0m \u001b[1m2s\u001b[0m 0us/step\n"
          ]
        }
      ]
    },
    {
      "cell_type": "code",
      "source": [
        "# Match class weights to generator's class indices\n",
        "class_labels = train_df['dx'].unique()\n",
        "class_weights = compute_class_weight('balanced', classes=class_labels, y=train_df['dx'])\n",
        "label_to_index = train_generator.class_indices\n",
        "index_to_weight = {label_to_index[label]: weight for label, weight in zip(class_labels, class_weights)}\n",
        "\n",
        "model.compile(optimizer=Adam(learning_rate=1e-4),\n",
        "              loss='categorical_crossentropy',\n",
        "              metrics=['accuracy'])\n"
      ],
      "metadata": {
        "id": "Gnnuc4-6KySX"
      },
      "execution_count": 11,
      "outputs": []
    },
    {
      "cell_type": "code",
      "source": [
        "early_stop = EarlyStopping(monitor='val_accuracy', patience=3, restore_best_weights=True)\n",
        "\n",
        "history = model.fit(\n",
        "    train_generator,\n",
        "    steps_per_epoch=train_generator.samples // batch_size,\n",
        "    validation_data=val_generator,\n",
        "    validation_steps=val_generator.samples // batch_size,\n",
        "    epochs=10,\n",
        "    class_weight=index_to_weight,\n",
        "    callbacks=[early_stop],\n",
        "    verbose=1\n",
        ")\n"
      ],
      "metadata": {
        "colab": {
          "base_uri": "https://localhost:8080/"
        },
        "id": "2V4rP9K6K0yX",
        "outputId": "be0bfbd9-3e31-4190-dd99-6c978dd1e609"
      },
      "execution_count": 13,
      "outputs": [
        {
          "output_type": "stream",
          "name": "stdout",
          "text": [
            "Epoch 1/10\n",
            "\u001b[1m250/250\u001b[0m \u001b[32m━━━━━━━━━━━━━━━━━━━━\u001b[0m\u001b[37m\u001b[0m \u001b[1m69s\u001b[0m 278ms/step - accuracy: 0.1882 - loss: 1.9695 - val_accuracy: 0.0514 - val_loss: 1.9428\n",
            "Epoch 2/10\n",
            "\u001b[1m250/250\u001b[0m \u001b[32m━━━━━━━━━━━━━━━━━━━━\u001b[0m\u001b[37m\u001b[0m \u001b[1m20s\u001b[0m 81ms/step - accuracy: 0.1250 - loss: 2.3905 - val_accuracy: 0.0514 - val_loss: 1.9469\n",
            "Epoch 3/10\n",
            "\u001b[1m250/250\u001b[0m \u001b[32m━━━━━━━━━━━━━━━━━━━━\u001b[0m\u001b[37m\u001b[0m \u001b[1m69s\u001b[0m 276ms/step - accuracy: 0.0812 - loss: 1.9856 - val_accuracy: 0.0514 - val_loss: 1.8956\n",
            "Epoch 4/10\n",
            "\u001b[1m250/250\u001b[0m \u001b[32m━━━━━━━━━━━━━━━━━━━━\u001b[0m\u001b[37m\u001b[0m \u001b[1m13s\u001b[0m 54ms/step - accuracy: 0.1875 - loss: 2.2709 - val_accuracy: 0.0514 - val_loss: 1.8978\n"
          ]
        }
      ]
    },
    {
      "cell_type": "code",
      "source": [
        "# Print final epoch's training and validation accuracy\n",
        "final_train_acc = history.history['accuracy'][-1]\n",
        "final_val_acc = history.history['val_accuracy'][-1]\n",
        "\n",
        "print(f\"Final Training Accuracy: {final_train_acc:.4f}\")\n",
        "print(f\"Final Validation Accuracy: {final_val_acc:.4f}\")\n"
      ],
      "metadata": {
        "colab": {
          "base_uri": "https://localhost:8080/"
        },
        "id": "JSL5EIXYLBUX",
        "outputId": "420dd8e1-0c2c-4752-f15f-b75864a7cece"
      },
      "execution_count": 14,
      "outputs": [
        {
          "output_type": "stream",
          "name": "stdout",
          "text": [
            "Final Training Accuracy: 0.1875\n",
            "Final Validation Accuracy: 0.0514\n"
          ]
        }
      ]
    },
    {
      "cell_type": "code",
      "source": [
        "import matplotlib.pyplot as plt\n",
        "\n",
        "plt.plot(history.history['accuracy'], label='Train Accuracy')\n",
        "plt.plot(history.history['val_accuracy'], label='Validation Accuracy')\n",
        "plt.title('Model Accuracy')\n",
        "plt.xlabel('Epoch')\n",
        "plt.ylabel('Accuracy')\n",
        "plt.legend()\n",
        "plt.grid(True)\n",
        "plt.show()\n"
      ],
      "metadata": {
        "colab": {
          "base_uri": "https://localhost:8080/",
          "height": 472
        },
        "id": "CrOwRMh6S0h0",
        "outputId": "ba96f8c7-d678-43c0-d672-9f194edcbcc0"
      },
      "execution_count": 15,
      "outputs": [
        {
          "output_type": "display_data",
          "data": {
            "text/plain": [
              "<Figure size 640x480 with 1 Axes>"
            ],
            "image/png": "[encoded data removed]"
          },
          "metadata": {}
        }
      ]
    },
    {
      "cell_type": "code",
      "source": [],
      "metadata": {
        "id": "ZuNShM8sS3YY"
      },
      "execution_count": null,
      "outputs": []
    }
  ]
}